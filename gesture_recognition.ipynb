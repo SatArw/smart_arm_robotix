{
  "nbformat": 4,
  "nbformat_minor": 0,
  "metadata": {
    "colab": {
      "provenance": []
    },
    "kernelspec": {
      "name": "python3",
      "display_name": "Python 3"
    },
    "language_info": {
      "name": "python"
    }
  },
  "cells": [
    {
      "cell_type": "code",
      "source": [
        "from IPython.display import display, Javascript\n",
        "from google.colab.output import eval_js\n",
        "from base64 import b64decode\n",
        "\n",
        "def take_photo(filename='photo.jpg', quality=0.8):\n",
        "  js = Javascript('''\n",
        "    async function takePhoto(quality) {\n",
        "      const div = document.createElement('div');\n",
        "      const capture = document.createElement('button');\n",
        "      capture.textContent = 'Capture';\n",
        "      div.appendChild(capture);\n",
        "\n",
        "      const video = document.createElement('video');\n",
        "      video.style.display = 'block';\n",
        "      const stream = await navigator.mediaDevices.getUserMedia({video: true});\n",
        "\n",
        "      document.body.appendChild(div);\n",
        "      div.appendChild(video);\n",
        "      video.srcObject = stream;\n",
        "      await video.play();\n",
        "\n",
        "      // Resize the output to fit the video element.\n",
        "      google.colab.output.setIframeHeight(document.documentElement.scrollHeight, true);\n",
        "\n",
        "      // Wait for Capture to be clicked.\n",
        "      await new Promise((resolve) => capture.onclick = resolve);\n",
        "\n",
        "      const canvas = document.createElement('canvas');\n",
        "      canvas.width = video.videoWidth;\n",
        "      canvas.height = video.videoHeight;\n",
        "      canvas.getContext('2d').drawImage(video, 0, 0);\n",
        "      stream.getVideoTracks()[0].stop();\n",
        "      div.remove();\n",
        "      return canvas.toDataURL('image/jpeg', quality);\n",
        "    }\n",
        "    ''')\n",
        "  display(js)\n",
        "  data = eval_js('takePhoto({})'.format(quality))\n",
        "  binary = b64decode(data.split(',')[1])\n",
        "  with open(filename, 'wb') as f:\n",
        "    f.write(binary)\n",
        "  return filename"
      ],
      "metadata": {
        "id": "fCn45n4Wf2EF"
      },
      "execution_count": null,
      "outputs": []
    },
    {
      "cell_type": "code",
      "execution_count": null,
      "metadata": {
        "id": "kJebAKk4ejlz"
      },
      "outputs": [],
      "source": [
        "import cv2\n",
        "import mediapipe as mp\n",
        "import time\n",
        "frameWidth = 640\n",
        "frameHeight = 480\n",
        "cap = cv2.VideoCapture(0)\n",
        "cap.set(3, frameWidth)\n",
        "cap.set(4, frameHeight)\n",
        "cap.set(10, 150)\n",
        "\n",
        "Draw_landmark = mp.solutions.drawing_utils\n",
        "Result = mp.solutions.hands\n",
        "hand = Result.Hands()\n",
        "\n",
        "tip=[4,8,12,16,20]\n",
        "while True:\n",
        "    success, img = cap.read(0)\n",
        "    RGB_img=cv2.cvtColor(img, cv2.COLOR_RGB2BGR)\n",
        "    output=hand.process(RGB_img)\n",
        "    hand_type=\"none\"\n",
        "    hand_count=0\n",
        "    if output.multi_hand_landmarks:\n",
        "        hand_count=len(output.multi_handedness)\n",
        "        for hand_multi in output.multi_handedness:\n",
        "            if(hand_multi.classification[0].label==\"Left\"):\n",
        "                hand_type=\"Right\"\n",
        "            elif(hand_multi.classification[0].label==\"Right\"):\n",
        "                hand_type=\"Left\"\n",
        "\n",
        "        for lms in output.multi_hand_landmarks:\n",
        "            list = [[], []]\n",
        "            for id,lm in enumerate(lms.landmark):\n",
        "                #print(id, lm)\n",
        "\n",
        "                height,width,channel=img.shape\n",
        "                x,y= int(lm.x*width) , int(lm.y*height)\n",
        "                #print(id,x,y)\n",
        "                list[0].append(x)\n",
        "                list[1].append(y)\n",
        "            finger_list = []\n",
        "            if(hand_type==\"Right\"):\n",
        "                if(list[0][tip[0]]>list[0][tip[0]-1]):\n",
        "                    finger_list.append(1)\n",
        "                else:\n",
        "                    finger_list.append(0)\n",
        "            elif(hand_type==\"Left\"):\n",
        "                if (list[0][tip[0]] > list[0][tip[0] - 1]):\n",
        "                    finger_list.append(0)\n",
        "                else:\n",
        "                    finger_list.append(1)\n",
        "            for count in range(1,5):\n",
        "                if(list[1][tip[count]]<list[1][tip[count]-2]):\n",
        "                    finger_list.append(1)\n",
        "                else:\n",
        "                    finger_list.append(0)\n",
        "            Draw_landmark.draw_landmarks(img,lms,Result.HAND_CONNECTIONS)\n",
        "            if(hand_count<2):\n",
        "                print(finger_list)\n",
        "            else:\n",
        "                print(\"Multiple Hands detected\")\n",
        "\n",
        "    cv2.imshow(\"Result\",img)\n",
        "    if cv2.waitKey(1) & 0xFF == ord('q'):\n",
        "        break\n",
        "\n",
        "\n"
      ]
    },
    {
      "cell_type": "code",
      "source": [
        "from IPython.display import Image\n",
        "try:\n",
        "  filename = take_photo()\n",
        "  print('Saved to {}'.format(filename))\n",
        "\n",
        "  # Show the image which was just taken.\n",
        "  display(Image(filename))\n",
        "except Exception as err:\n",
        "  # Errors will be thrown if the user does not have a webcam or if they do not\n",
        "  # grant the page permission to access it.\n",
        "  print(str(err))"
      ],
      "metadata": {
        "id": "X3T1v2rHf2EK"
      },
      "execution_count": null,
      "outputs": []
    },
    {
      "cell_type": "code",
      "source": [],
      "metadata": {
        "id": "UIuvry2npo1g"
      },
      "execution_count": null,
      "outputs": []
    }
  ]
}